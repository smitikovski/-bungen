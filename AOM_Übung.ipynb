{
 "cells": [
  {
   "cell_type": "markdown",
   "metadata": {},
   "source": [
    "<h1><strong>AOM Übung</strong></h1>\n",
    "<h2>Exercise 01</h2>\n",
    "<p><strong>Python Basics</strong></p>"
   ]
  },
  {
   "cell_type": "code",
   "execution_count": 2,
   "metadata": {},
   "outputs": [],
   "source": [
    "import numpy as np\n",
    "import pandas as pd\n",
    "import pulp as pl\n"
   ]
  },
  {
   "cell_type": "code",
   "execution_count": 3,
   "metadata": {},
   "outputs": [
    {
     "name": "stdout",
     "output_type": "stream",
     "text": [
      "Hello World\n"
     ]
    }
   ],
   "source": [
    "print(\"Hello World\")"
   ]
  },
  {
   "cell_type": "code",
   "execution_count": 4,
   "metadata": {},
   "outputs": [
    {
     "name": "stdout",
     "output_type": "stream",
     "text": [
      "9\n",
      "9\n"
     ]
    }
   ],
   "source": [
    "print(3*3)\n",
    "c = 3\n",
    "b = 3\n",
    "z = c*b\n",
    "print(z)\n",
    "\n",
    "\n",
    "num_student_class = 6"
   ]
  },
  {
   "cell_type": "code",
   "execution_count": 5,
   "metadata": {},
   "outputs": [],
   "source": [
    "L = [1,2,3]\n",
    "\n",
    "L[1:]\n",
    "\n",
    "M = [[1,2,3], [4,5,6]]\n",
    "\n",
    "Liste_items = [[1, 40, 103],[2, 100, 400]]\n",
    "\n",
    "\n",
    "# 2- dimensionale Items - operators fishy"
   ]
  },
  {
   "cell_type": "code",
   "execution_count": 6,
   "metadata": {},
   "outputs": [
    {
     "data": {
      "text/plain": [
       "191"
      ]
     },
     "execution_count": 6,
     "metadata": {},
     "output_type": "execute_result"
    }
   ],
   "source": [
    "\n",
    "Beispiel_liste = np.array([10,20,5,100,56])\n",
    "Beispiel_liste.sum()"
   ]
  },
  {
   "cell_type": "code",
   "execution_count": 7,
   "metadata": {},
   "outputs": [],
   "source": [
    "Beispiel_liste = np.append(Beispiel_liste, 257)"
   ]
  },
  {
   "cell_type": "code",
   "execution_count": 8,
   "metadata": {},
   "outputs": [
    {
     "data": {
      "text/plain": [
       "array([ 10,  20,   5, 100,  56, 257])"
      ]
     },
     "execution_count": 8,
     "metadata": {},
     "output_type": "execute_result"
    }
   ],
   "source": [
    "Beispiel_liste"
   ]
  },
  {
   "cell_type": "code",
   "execution_count": 9,
   "metadata": {},
   "outputs": [],
   "source": [
    "Knappsack_items = [727, 763, 60, 606, 45, 370, 414, 880, 820]"
   ]
  },
  {
   "cell_type": "code",
   "execution_count": 10,
   "metadata": {},
   "outputs": [
    {
     "data": {
      "text/plain": [
       "[880, 820, 763, 727, 606, 414, 370, 60, 45]"
      ]
     },
     "execution_count": 10,
     "metadata": {},
     "output_type": "execute_result"
    }
   ],
   "source": [
    "Knappsack_items.sort(reverse=True)\n",
    "Knappsack_items"
   ]
  },
  {
   "cell_type": "code",
   "execution_count": 11,
   "metadata": {},
   "outputs": [
    {
     "name": "stdout",
     "output_type": "stream",
     "text": [
      "Total Profit = 4685\n"
     ]
    }
   ],
   "source": [
    "Total_profit = sum(Knappsack_items)\n",
    "Total_profit\n",
    "\n",
    "print(f\"Total Profit = {Total_profit}\")"
   ]
  },
  {
   "cell_type": "code",
   "execution_count": 35,
   "metadata": {},
   "outputs": [
    {
     "data": {
      "text/plain": [
       "61.048"
      ]
     },
     "execution_count": 35,
     "metadata": {},
     "output_type": "execute_result"
    }
   ],
   "source": [
    "def multiply(x,y):\n",
    "    product = x*y\n",
    "    return round(product,3)\n",
    "\n",
    "\n",
    "multiply(3,20.349348)"
   ]
  },
  {
   "cell_type": "code",
   "execution_count": 13,
   "metadata": {},
   "outputs": [
    {
     "data": {
      "text/plain": [
       "89.6"
      ]
     },
     "execution_count": 13,
     "metadata": {},
     "output_type": "execute_result"
    }
   ],
   "source": [
    "def converterCelsius(x):\n",
    "    Fahrenheit = x*9/5+32\n",
    "    return Fahrenheit \n",
    "\n",
    "converterCelsius(32)"
   ]
  },
  {
   "cell_type": "code",
   "execution_count": 14,
   "metadata": {},
   "outputs": [
    {
     "data": {
      "text/plain": [
       "[1, 32, 727, 22.71875]"
      ]
     },
     "execution_count": 14,
     "metadata": {},
     "output_type": "execute_result"
    }
   ],
   "source": [
    "item_1 = [1,32,727]\n",
    "item_2 = [2, 48, 763]\n",
    "item_3 = [3, 44, 69]\n",
    "\n",
    "\n",
    "def efficiency(item_name):\n",
    "    item_efficiency = item_name[2]/item_name[1]\n",
    "    item_name.append(item_efficiency)\n",
    "    return item_name\n",
    "\n",
    "efficiency(item_1)\n"
   ]
  },
  {
   "cell_type": "code",
   "execution_count": 18,
   "metadata": {},
   "outputs": [
    {
     "name": "stdout",
     "output_type": "stream",
     "text": [
      "What is up? \n",
      "this is up\n",
      "You can do \t this\n"
     ]
    }
   ],
   "source": [
    "print(\"What is up? \\nthis is up\")\n",
    "print(\"You can do \\t this\")\n"
   ]
  },
  {
   "cell_type": "code",
   "execution_count": 24,
   "metadata": {},
   "outputs": [
    {
     "name": "stdout",
     "output_type": "stream",
     "text": [
      "His name is John \n",
      "he was 40 years old\n",
      "There once was a man named John,\n",
      "he was 40 years old\n"
     ]
    }
   ],
   "source": [
    "character_name = \"John\"\n",
    "character_age = 40\n",
    "print(f\"His name is {character_name} \\nhe was {character_age} years old\")\n",
    "\n",
    "print(\"There once was a man named \" + character_name + \",\")\n",
    "print(\"he was 40 years old\")"
   ]
  },
  {
   "cell_type": "code",
   "execution_count": 28,
   "metadata": {},
   "outputs": [
    {
     "name": "stdout",
     "output_type": "stream",
     "text": [
      "Hello Malaka!\n",
      "Dude, with 60 you are really old!!!!! \n",
      "Get outta here!!!!\n"
     ]
    }
   ],
   "source": [
    "user_name = input(\"Please enter your name:\")\n",
    "print(f\"Hello {user_name}!\")\n",
    "\n",
    "\n",
    "user_age = eval(input(\"Please enter your age:\"))\n",
    "print(f\"Dude, with {user_age} you are really old!!!!! \\nGet outta here!!!!\")"
   ]
  },
  {
   "cell_type": "code",
   "execution_count": 30,
   "metadata": {},
   "outputs": [
    {
     "name": "stdout",
     "output_type": "stream",
     "text": [
      "In Fahrenheit, it is 190.4 degrees\n"
     ]
    }
   ],
   "source": [
    "temp = eval(input(\"Please enter the temperature I should convert to Celsius:\"))\n",
    "\n",
    "f_temp = 9/5*temp+32\n",
    "print(f\"In Fahrenheit, it is {f_temp} degrees\")"
   ]
  },
  {
   "cell_type": "code",
   "execution_count": 37,
   "metadata": {},
   "outputs": [
    {
     "name": "stdout",
     "output_type": "stream",
     "text": [
      "Your name is mirko and you are 25 years old\n"
     ]
    }
   ],
   "source": [
    "def name_age():\n",
    "    name_of_user = input(\"What is your name?\")\n",
    "    age_of_user = input(\"What is your age?\")\n",
    "    print(f\"Your name is {name_of_user} and you are {age_of_user} years old\")\n",
    "\n",
    "name_age()"
   ]
  },
  {
   "cell_type": "code",
   "execution_count": null,
   "metadata": {},
   "outputs": [],
   "source": [
    "import math\n",
    "\n",
    "Punkt_1 = []\n",
    "\n",
    "\n",
    "def euklidische_distanz():\n",
    "    punkt_1x = eval(input(\"Was ist die X- Koordinate des Punkt 1?\"))\n",
    "    punkt_1y = eval(input(\"Was ist die Y- Koordinate des Punkt 1?\"))\n",
    "    punkt_1z = eval(input(\"Was ist die Z- Koordinate des Punkt 1?\"))\n",
    "    punkt_1 = []\n",
    "    punkt_1.append(punkt_1x)\n",
    "    punkt_1.append(punkt_1y)\n",
    "    punkt_1.append(punkt_1z)\n",
    "    punkt_2x = eval(input(\"Was ist die X- Koordinate des Punkt 2?\"))\n",
    "    punkt_2y = eval(input(\"Was ist die Y- Koordinate des Punkt 2?\"))\n",
    "    punkt_2z = eval(input(\"Was ist die Z- Koordinate des Punkt 2?\"))\n",
    "    punkt_2 = []\n",
    "    punkt_2.append(punkt_2x)\n",
    "    punkt_2.append(punkt_2y)\n",
    "    punkt_2.append(punkt_2z)\n",
    "\n",
    "\n",
    "\n"
   ]
  },
  {
   "cell_type": "code",
   "execution_count": 52,
   "metadata": {},
   "outputs": [
    {
     "name": "stdout",
     "output_type": "stream",
     "text": [
      "Die Vektoren sind [1, 2, 3] &  [4, 5, 6]\n"
     ]
    },
    {
     "data": {
      "text/plain": [
       "5.196"
      ]
     },
     "execution_count": 52,
     "metadata": {},
     "output_type": "execute_result"
    }
   ],
   "source": [
    "def euklidische_distanz():\n",
    "    punkt_1 = []\n",
    "    punkt_2 = []\n",
    "    for i in range(0,3):\n",
    "        punkt_1.append(eval(input(f\"Was ist die {i+1}. Koordinate für Punkt 1?\")))\n",
    "\n",
    "    for y in range(0,3):    \n",
    "        punkt_2.append(eval(input(f\"Was ist die {y+1}. Koordinate für Punkt 2?\")))\n",
    "    print(f\"Die Vektoren sind {punkt_1} &  {punkt_2}\")\n",
    "    distanz = ((punkt_2[0]-punkt_1[0])**2+(punkt_2[1]-punkt_1[1])**2+(punkt_2[2]-punkt_1[2])**2)**0.5\n",
    "    return round(distanz,3)\n",
    "\n",
    "euklidische_distanz()\n",
    "\n"
   ]
  },
  {
   "cell_type": "code",
   "execution_count": 49,
   "metadata": {},
   "outputs": [
    {
     "data": {
      "text/plain": [
       "22.71875"
      ]
     },
     "execution_count": 49,
     "metadata": {},
     "output_type": "execute_result"
    }
   ],
   "source": [
    "# Aufgabe 3 der Übung\n",
    "\n",
    "item_1 = [1,32,727]\n",
    "item_2 = [2,40,763]\n",
    "\n",
    "def efficiency_second(item_name):\n",
    "    item_efficiency = item_name[2]/item_name[1]\n",
    "    return item_efficiency\n",
    "\n",
    "efficiency_second(item_1)\n"
   ]
  },
  {
   "cell_type": "code",
   "execution_count": null,
   "metadata": {},
   "outputs": [],
   "source": []
  }
 ],
 "metadata": {
  "kernelspec": {
   "display_name": "base",
   "language": "python",
   "name": "python3"
  },
  "language_info": {
   "codemirror_mode": {
    "name": "ipython",
    "version": 3
   },
   "file_extension": ".py",
   "mimetype": "text/x-python",
   "name": "python",
   "nbconvert_exporter": "python",
   "pygments_lexer": "ipython3",
   "version": "3.9.12"
  },
  "orig_nbformat": 4
 },
 "nbformat": 4,
 "nbformat_minor": 2
}
